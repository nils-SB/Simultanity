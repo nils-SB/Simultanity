{
 "cells": [
  {
   "cell_type": "code",
   "execution_count": 1,
   "metadata": {
    "collapsed": true
   },
   "outputs": [],
   "source": [
    "import numpy as np\n",
    "import pandas as pd\n",
    "from sqlalchemy import create_engine\n",
    "import matplotlib.pyplot as plt\n",
    "import seaborn as sns\n",
    "from main import read_json_obj, get_da_data\n",
    "from datetime import datetime\n",
    "from StationData import get_station\n"
   ]
  },
  {
   "cell_type": "code",
   "execution_count": 2,
   "outputs": [],
   "source": [
    "setup_dict = read_json_obj(\"C:/Users/nilsb/PycharmProjects/Simultanity/JSON_Config.JSON\")\n",
    "engine = create_engine(\"mysql+pymysql://{user}:{pw}@{host}/{db}\"\n",
    "                       .format(host=setup_dict[\"database\"][\"hostname\"],db=setup_dict[\"database\"][\"dbname\"],\n",
    "                        user=setup_dict[\"database\"][\"uname\"],\n",
    "                        pw=setup_dict[\"database\"][\"pwd\"]))"
   ],
   "metadata": {
    "collapsed": false,
    "pycharm": {
     "name": "#%%\n"
    }
   }
  },
  {
   "cell_type": "code",
   "execution_count": 3,
   "outputs": [],
   "source": [
    "db = '{Standort}_{name}'.format(Standort=setup_dict['simulation']['station'], name=\"quarterly19_south\")\n",
    "df_sud = pd.read_sql(db, engine)\n",
    "df_sud.set_index(['datetime_index'], inplace=True)"
   ],
   "metadata": {
    "collapsed": false,
    "pycharm": {
     "name": "#%%\n"
    }
   }
  },
  {
   "cell_type": "code",
   "execution_count": 4,
   "outputs": [],
   "source": [
    "db = '{Standort}_{name}'.format(Standort=setup_dict['simulation']['station'], name=\"quarterly19_e_w\")\n",
    "df_ew = pd.read_sql(db, engine)\n",
    "df_ew.set_index(['datetime_index'], inplace=True)"
   ],
   "metadata": {
    "collapsed": false,
    "pycharm": {
     "name": "#%%\n"
    }
   }
  },
  {
   "cell_type": "code",
   "execution_count": 5,
   "outputs": [
    {
     "name": "stdout",
     "output_type": "stream",
     "text": [
      "2019 Mittelwert des Day Ahead Börsenpreises, DE/LU\n"
     ]
    },
    {
     "data": {
      "text/plain": "DA[€/MWh]    37.67278\ndtype: float64"
     },
     "execution_count": 5,
     "metadata": {},
     "output_type": "execute_result"
    }
   ],
   "source": [
    "da_df = get_da_data(year=2019)\n",
    "print(f'{da_df.index.year[1]} Mittelwert des Day Ahead Börsenpreises, DE/LU')\n",
    "da_mean = da_df.mean()['DA[€/MWh]']\n",
    "da_df.mean()"
   ],
   "metadata": {
    "collapsed": false,
    "pycharm": {
     "name": "#%%\n"
    }
   }
  },
  {
   "cell_type": "code",
   "execution_count": 6,
   "outputs": [
    {
     "data": {
      "text/plain": "        DA in €/MWh        PV_rev      wind_rev       sum_rev\ncount  35037.000000  35037.000000  34944.000000  34944.000000\nmean      37.672780      7.564393     18.611894     26.196418\nstd       15.504588     14.416934     21.521302     28.599722\nmin      -90.010000   -105.383957   -128.264250   -228.599536\n25%       31.060000      0.000000      2.298183      4.201616\n50%       38.060000      0.000000     11.176837     17.823914\n75%       46.270000      9.265454     32.108752     44.491360\nmax      121.460000     80.320336    133.069904    157.514126",
      "text/html": "<div>\n<style scoped>\n    .dataframe tbody tr th:only-of-type {\n        vertical-align: middle;\n    }\n\n    .dataframe tbody tr th {\n        vertical-align: top;\n    }\n\n    .dataframe thead th {\n        text-align: right;\n    }\n</style>\n<table border=\"1\" class=\"dataframe\">\n  <thead>\n    <tr style=\"text-align: right;\">\n      <th></th>\n      <th>DA in €/MWh</th>\n      <th>PV_rev</th>\n      <th>wind_rev</th>\n      <th>sum_rev</th>\n    </tr>\n  </thead>\n  <tbody>\n    <tr>\n      <th>count</th>\n      <td>35037.000000</td>\n      <td>35037.000000</td>\n      <td>34944.000000</td>\n      <td>34944.000000</td>\n    </tr>\n    <tr>\n      <th>mean</th>\n      <td>37.672780</td>\n      <td>7.564393</td>\n      <td>18.611894</td>\n      <td>26.196418</td>\n    </tr>\n    <tr>\n      <th>std</th>\n      <td>15.504588</td>\n      <td>14.416934</td>\n      <td>21.521302</td>\n      <td>28.599722</td>\n    </tr>\n    <tr>\n      <th>min</th>\n      <td>-90.010000</td>\n      <td>-105.383957</td>\n      <td>-128.264250</td>\n      <td>-228.599536</td>\n    </tr>\n    <tr>\n      <th>25%</th>\n      <td>31.060000</td>\n      <td>0.000000</td>\n      <td>2.298183</td>\n      <td>4.201616</td>\n    </tr>\n    <tr>\n      <th>50%</th>\n      <td>38.060000</td>\n      <td>0.000000</td>\n      <td>11.176837</td>\n      <td>17.823914</td>\n    </tr>\n    <tr>\n      <th>75%</th>\n      <td>46.270000</td>\n      <td>9.265454</td>\n      <td>32.108752</td>\n      <td>44.491360</td>\n    </tr>\n    <tr>\n      <th>max</th>\n      <td>121.460000</td>\n      <td>80.320336</td>\n      <td>133.069904</td>\n      <td>157.514126</td>\n    </tr>\n  </tbody>\n</table>\n</div>"
     },
     "execution_count": 6,
     "metadata": {},
     "output_type": "execute_result"
    }
   ],
   "source": [
    "revenue_sud = pd.DataFrame()\n",
    "revenue_sud['DA in €/MWh'] = da_df['DA[€/MWh]']\n",
    "revenue_sud['PV_rev']=df_sud['PV_output']/1000*da_df['DA[€/MWh]']/4\n",
    "revenue_sud['wind_rev']=df_sud['WEA_Power']/1000*da_df['DA[€/MWh]']/4\n",
    "revenue_sud['sum_rev']=(df_sud['PV_output']+df_sud['WEA_Power'])/1000 * da_df['DA[€/MWh]']/4\n",
    "revenue_sud.describe()"
   ],
   "metadata": {
    "collapsed": false,
    "pycharm": {
     "name": "#%%\n"
    }
   }
  },
  {
   "cell_type": "code",
   "execution_count": 7,
   "outputs": [
    {
     "data": {
      "text/plain": "        DA in €/MWh        PV_rev      wind_rev       sum_rev\ncount  35037.000000  35037.000000  34944.000000  34944.000000\nmean      37.672780      6.800495     18.611894     25.430488\nstd       15.504588     12.707619     21.521302     27.446612\nmin      -90.010000    -97.843679   -128.264250   -221.535682\n25%       31.060000      0.000000      2.298183      4.273019\n50%       38.060000      0.000000     11.176837     17.618293\n75%       46.270000      9.058022     32.108752     43.022894\nmax      121.460000     73.912951    133.069904    149.603353",
      "text/html": "<div>\n<style scoped>\n    .dataframe tbody tr th:only-of-type {\n        vertical-align: middle;\n    }\n\n    .dataframe tbody tr th {\n        vertical-align: top;\n    }\n\n    .dataframe thead th {\n        text-align: right;\n    }\n</style>\n<table border=\"1\" class=\"dataframe\">\n  <thead>\n    <tr style=\"text-align: right;\">\n      <th></th>\n      <th>DA in €/MWh</th>\n      <th>PV_rev</th>\n      <th>wind_rev</th>\n      <th>sum_rev</th>\n    </tr>\n  </thead>\n  <tbody>\n    <tr>\n      <th>count</th>\n      <td>35037.000000</td>\n      <td>35037.000000</td>\n      <td>34944.000000</td>\n      <td>34944.000000</td>\n    </tr>\n    <tr>\n      <th>mean</th>\n      <td>37.672780</td>\n      <td>6.800495</td>\n      <td>18.611894</td>\n      <td>25.430488</td>\n    </tr>\n    <tr>\n      <th>std</th>\n      <td>15.504588</td>\n      <td>12.707619</td>\n      <td>21.521302</td>\n      <td>27.446612</td>\n    </tr>\n    <tr>\n      <th>min</th>\n      <td>-90.010000</td>\n      <td>-97.843679</td>\n      <td>-128.264250</td>\n      <td>-221.535682</td>\n    </tr>\n    <tr>\n      <th>25%</th>\n      <td>31.060000</td>\n      <td>0.000000</td>\n      <td>2.298183</td>\n      <td>4.273019</td>\n    </tr>\n    <tr>\n      <th>50%</th>\n      <td>38.060000</td>\n      <td>0.000000</td>\n      <td>11.176837</td>\n      <td>17.618293</td>\n    </tr>\n    <tr>\n      <th>75%</th>\n      <td>46.270000</td>\n      <td>9.058022</td>\n      <td>32.108752</td>\n      <td>43.022894</td>\n    </tr>\n    <tr>\n      <th>max</th>\n      <td>121.460000</td>\n      <td>73.912951</td>\n      <td>133.069904</td>\n      <td>149.603353</td>\n    </tr>\n  </tbody>\n</table>\n</div>"
     },
     "execution_count": 7,
     "metadata": {},
     "output_type": "execute_result"
    }
   ],
   "source": [
    "revenue_ew= pd.DataFrame()\n",
    "revenue_ew['DA in €/MWh'] = da_df['DA[€/MWh]']\n",
    "revenue_ew['PV_rev'] = df_ew['PV_output'] / 1000 * da_df['DA[€/MWh]'] / 4\n",
    "revenue_ew['wind_rev'] = df_ew['WEA_Power'] / 1000 * da_df['DA[€/MWh]'] / 4\n",
    "revenue_ew['sum_rev'] = (df_ew['PV_output'] + df_ew['WEA_Power']) / 1000 * da_df['DA[€/MWh]'] / 4\n",
    "revenue_ew.describe()\n"
   ],
   "metadata": {
    "collapsed": false,
    "pycharm": {
     "name": "#%%\n"
    }
   }
  },
  {
   "cell_type": "code",
   "execution_count": 8,
   "outputs": [
    {
     "name": "stdout",
     "output_type": "stream",
     "text": [
      " Mengengewichteter Marktwert PV: 36.197 in €/MWh, 2019 Ost-West\n",
      " Mengengewichteter Marktwert Windkraft: 33.808 in €/MWh, 2019 \n",
      " Mengengewichteter Marktwert in Summe: 34.417 in €/MWh, 2019 \n",
      " 2019 mittlerer DA Strompreis 37.673 €/MWh\n"
     ]
    }
   ],
   "source": [
    "marktwert_PV = revenue_ew['PV_rev'].sum()/df_ew['PV_output'].sum()*1000*4\n",
    "print(f' Mengengewichteter Marktwert PV: {round(marktwert_PV,3)} in €/MWh, {df_ew.index.year[1]} Ost-West')\n",
    "marktwert_wind = revenue_ew['wind_rev'].sum()/df_ew['WEA_Power'].sum()*1000*4\n",
    "print(f' Mengengewichteter Marktwert Windkraft: {round(marktwert_wind,3)} in €/MWh, {df_ew.index.year[1]} ')\n",
    "marktwert_kombi = revenue_ew['sum_rev'].sum()/df_ew['power_total'].sum()*1000*4\n",
    "print(f' Mengengewichteter Marktwert in Summe: {round(marktwert_kombi,3)} in €/MWh, {df_ew.index.year[1]} ')\n",
    "print(f' {df_ew.index.year[1]} mittlerer DA Strompreis {round(da_mean,3)} €/MWh')"
   ],
   "metadata": {
    "collapsed": false,
    "pycharm": {
     "name": "#%%\n"
    }
   }
  },
  {
   "cell_type": "code",
   "execution_count": 9,
   "outputs": [
    {
     "name": "stdout",
     "output_type": "stream",
     "text": [
      " Mengengewichteter Marktwert PV: 36.473 in €/MWh, 2019 Süd\n",
      " Mengengewichteter Marktwert Windkraft: 33.808 in €/MWh, 2019 \n",
      " Mengengewichteter Marktwert in Summe: 34.539 in €/MWh, 2019 \n",
      " 2019 mittlerer DA Strompreis 37.673 €/MWh\n"
     ]
    }
   ],
   "source": [
    "marktwert_PV = revenue_sud['PV_rev'].sum()/df_sud['PV_output'].sum()*1000*4\n",
    "print(f' Mengengewichteter Marktwert PV: {round(marktwert_PV,3)} in €/MWh, {df_ew.index.year[1]} Süd')\n",
    "marktwert_wind = revenue_sud['wind_rev'].sum()/df_sud['WEA_Power'].sum()*1000*4\n",
    "print(f' Mengengewichteter Marktwert Windkraft: {round(marktwert_wind,3)} in €/MWh, {df_ew.index.year[1]} ')\n",
    "marktwert_kombi = revenue_sud['sum_rev'].sum()/df_sud['power_total'].sum()*1000*4\n",
    "print(f' Mengengewichteter Marktwert in Summe: {round(marktwert_kombi,3)} in €/MWh, {df_ew.index.year[1]} ')\n",
    "print(f' {df_ew.index.year[1]} mittlerer DA Strompreis {round(da_mean,3)} €/MWh')"
   ],
   "metadata": {
    "collapsed": false,
    "pycharm": {
     "name": "#%%\n"
    }
   }
  },
  {
   "cell_type": "code",
   "execution_count": 10,
   "outputs": [
    {
     "name": "stdout",
     "output_type": "stream",
     "text": [
      "PV Ausrichtung Süd - Ergebnisse:\n",
      " 2019 Zeitpunkte in denen g>0.5 16.516 %\n",
      " 2019 Finanzieller Verlust durch Abregelung 8.516 %\n",
      " 2019 Energetischer Verlust durch Abregelung 9.3 %\n",
      " 2019 Marktwert der Abgeregelten Energie 32.653 €/MWh\n"
     ]
    }
   ],
   "source": [
    "over = df_sud['power_total'] > df_sud['WEA_Power'].max()\n",
    "e_cap = df_sud['power_total'].copy()\n",
    "e_cap[over] = df_sud['WEA_Power'].max()\n",
    "revenue_cap = e_cap/1000 * da_df['DA[€/MWh]']/4\n",
    "loss_sud = df_sud['revenue'][over] - revenue_cap\n",
    "loss_financial_perc = loss_sud.sum()/df_sud['revenue'].sum()*100\n",
    "loss_energy_perc = (df_sud['power_total'].sum() - e_cap.sum())/df_sud['power_total'].sum() *100\n",
    "marktwert_loss = (df_sud['power_total'][over]*da_df['DA[€/MWh]'][over]).sum()/ df_sud['power_total'][over].sum()\n",
    "over_perc = sum(over)/df_sud.shape[0] *100\n",
    "print('PV Ausrichtung Süd - Ergebnisse:')\n",
    "print(f' {df_ew.index.year[1]} Zeitpunkte in denen g>0.5 {round(over_perc,3)} %')\n",
    "print(f' {df_ew.index.year[1]} Finanzieller Verlust durch Abregelung {round(loss_financial_perc,3)} %')\n",
    "print(f' {df_ew.index.year[1]} Energetischer Verlust durch Abregelung {round(loss_energy_perc,3)} %')\n",
    "print(f' {df_ew.index.year[1]} Marktwert der Abgeregelten Energie {round(marktwert_loss,3)} €/MWh')"
   ],
   "metadata": {
    "collapsed": false,
    "pycharm": {
     "name": "#%%\n"
    }
   }
  },
  {
   "cell_type": "code",
   "execution_count": 11,
   "outputs": [
    {
     "name": "stdout",
     "output_type": "stream",
     "text": [
      "PV Ausrichtung Ost West - Ergebnisse:\n",
      " 2019 Zeitpunkte in denen g>0.5 15.357 %\n",
      " 2019 Finanzieller Verlust durch Abregelung 7.176 %\n",
      " 2019 Energetischer Verlust durch Abregelung 7.99 %\n",
      " 2019 Marktwert der Abgeregelten Energie 32.191 €/MWh\n"
     ]
    }
   ],
   "source": [
    "over = df_ew['power_total'] > df_ew['WEA_Power'].max()\n",
    "e_cap = df_ew['power_total'].copy()\n",
    "e_cap[over] = df_ew['WEA_Power'].max()\n",
    "revenue_cap = e_cap/1000 * da_df['DA[€/MWh]']/4\n",
    "loss_ew = df_ew['revenue'][over] - revenue_cap\n",
    "loss_financial_perc = loss_ew.sum()/df_ew['revenue'].sum()*100\n",
    "loss_energy_perc = (df_ew['power_total'].sum() - e_cap.sum())/df_ew['power_total'].sum() *100\n",
    "marktwert_loss = (df_ew['power_total'][over]*da_df['DA[€/MWh]'][over]).sum()/ df_ew['power_total'][over].sum()\n",
    "over_perc = sum(over)/df_ew.shape[0] *100\n",
    "print('PV Ausrichtung Ost West - Ergebnisse:')\n",
    "print(f' {df_ew.index.year[1]} Zeitpunkte in denen g>0.5 {round(over_perc,3)} %')\n",
    "print(f' {df_ew.index.year[1]} Finanzieller Verlust durch Abregelung {round(loss_financial_perc,3)} %')\n",
    "print(f' {df_ew.index.year[1]} Energetischer Verlust durch Abregelung {round(loss_energy_perc,3)} %')\n",
    "print(f' {df_ew.index.year[1]} Marktwert der Abgeregelten Energie {round(marktwert_loss,3)} €/MWh')"
   ],
   "metadata": {
    "collapsed": false,
    "pycharm": {
     "name": "#%%\n"
    }
   }
  },
  {
   "cell_type": "code",
   "execution_count": 25,
   "outputs": [
    {
     "name": "stdout",
     "output_type": "stream",
     "text": [
      " Mengengewichteter Marktwert PV: 25.769 in €/MWh, 2020 Ost-West\n",
      " Mengengewichteter Marktwert Windkraft: 25.216 in €/MWh, 2020 \n",
      " Mengengewichteter Marktwert in Summe: 25.364 in €/MWh, 2020 \n",
      " 2020 mittlerer DA Strompreis 30.47 €/MWh\n",
      "PV Ausrichtung Süd - Ergebnisse:\n",
      " 2020 Zeitpunkte in denen g>0.5 15.213 %\n",
      " 2020 Finanzieller Verlust durch Abregelung 5.554 %\n",
      " 2020 Energetischer Verlust durch Abregelung 8.417 %\n",
      " 2020 Marktwert der Abgeregelten Energie 19.582 €/MWh\n"
     ]
    }
   ],
   "source": [
    "db = '{Standort}_{name}'.format(Standort=setup_dict['simulation']['station'], name=\"20_ew\")\n",
    "df_2020 = pd.read_sql(db, engine)\n",
    "df_2020.set_index(['datetime_index'], inplace=True)\n",
    "da_df = get_da_data(2020)\n",
    "revenue_2020 = pd.DataFrame()\n",
    "revenue_2020['DA in €/MWh'] = da_df['DA[€/MWh]']\n",
    "revenue_2020['PV_rev']=df_2020['PV_output']/1000*da_df['DA[€/MWh]']/4\n",
    "revenue_2020['wind_rev']=df_2020['WEA_Power']/1000*da_df['DA[€/MWh]']/4\n",
    "revenue_2020['sum_rev']=(df_2020['PV_output']+df_2020['WEA_Power'])/1000 * da_df['DA[€/MWh]']/4\n",
    "\n",
    "marktwert_PV = revenue_2020['PV_rev'].sum()/df_2020['PV_output'].sum()*1000*4\n",
    "print(f' Mengengewichteter Marktwert PV: {round(marktwert_PV,3)} in €/MWh, {df_2020.index.year[1]} Ost-West')\n",
    "marktwert_wind = revenue_2020['wind_rev'].sum()/df_2020['WEA_Power'].sum()*1000*4\n",
    "print(f' Mengengewichteter Marktwert Windkraft: {round(marktwert_wind,3)} in €/MWh, {df_2020.index.year[1]} ')\n",
    "marktwert_kombi = revenue_2020['sum_rev'].sum()/df_2020['power_total'].sum()*1000*4\n",
    "print(f' Mengengewichteter Marktwert in Summe: {round(marktwert_kombi,3)} in €/MWh, {df_2020.index.year[1]} ')\n",
    "da_mean = da_df.mean()['DA[€/MWh]']\n",
    "print(f' {df_2020.index.year[1]} mittlerer DA Strompreis {round(da_mean,3)} €/MWh')\n",
    "\n",
    "over = df_2020['power_total'] > df_2020['WEA_Power'].max()\n",
    "e_cap = df_2020['power_total'].copy()\n",
    "e_cap[over] = df_2020['WEA_Power'].max()\n",
    "revenue_cap = e_cap/1000 * da_df['DA[€/MWh]']/4\n",
    "loss_sud = df_2020['revenue'][over] - revenue_cap\n",
    "loss_financial_perc = loss_sud.sum()/df_2020['revenue'].sum()*100\n",
    "loss_energy_perc = (df_2020['power_total'].sum() - e_cap.sum())/df_2020['power_total'].sum() *100\n",
    "marktwert_loss = (df_2020['power_total'][over]*da_df['DA[€/MWh]'][over]).sum()/ df_2020['power_total'][over].sum()\n",
    "over_perc = sum(over)/df_2020.shape[0] *100\n",
    "print('PV Ausrichtung Süd - Ergebnisse:')\n",
    "print(f' {df_2020.index.year[1]} Zeitpunkte in denen g>0.5 {round(over_perc,3)} %')\n",
    "print(f' {df_2020.index.year[2]} Finanzieller Verlust durch Abregelung {round(loss_financial_perc,3)} %')\n",
    "print(f' {df_2020.index.year[2]} Energetischer Verlust durch Abregelung {round(loss_energy_perc,3)} %')\n",
    "print(f' {df_2020.index.year[2]} Marktwert der Abgeregelten Energie {round(marktwert_loss,3)} €/MWh')"
   ],
   "metadata": {
    "collapsed": false,
    "pycharm": {
     "name": "#%%\n"
    }
   }
  },
  {
   "cell_type": "code",
   "execution_count": 26,
   "outputs": [
    {
     "name": "stdout",
     "output_type": "stream",
     "text": [
      " Mengengewichteter Marktwert PV: 76.931 in €/MWh, 2021 Ost-West\n",
      " Mengengewichteter Marktwert Windkraft: 83.439 in €/MWh, 2021 \n",
      " Mengengewichteter Marktwert in Summe: 81.669 in €/MWh, 2021 \n",
      " 2021 mittlerer DA Strompreis 96.854 €/MWh\n",
      "PV Ausrichtung Süd - Ergebnisse:\n",
      " 2021 Zeitpunkte in denen g>0.5 12.383 %\n",
      " 2021 Finanzieller Verlust durch Abregelung 4.64 %\n",
      " 2021 Energetischer Verlust durch Abregelung 7.108 %\n",
      " 2021 Marktwert der Abgeregelten Energie 60.446 €/MWh\n"
     ]
    }
   ],
   "source": [
    "db = '{Standort}_{name}'.format(Standort=setup_dict['simulation']['station'], name=\"21_ew\")\n",
    "df_2021 = pd.read_sql(db, engine)\n",
    "df_2021.set_index(['datetime_index'], inplace=True)\n",
    "da_df = get_da_data(2021)\n",
    "revenue_2021 = pd.DataFrame()\n",
    "revenue_2021['DA in €/MWh'] = da_df['DA[€/MWh]']\n",
    "revenue_2021['PV_rev']=df_2021['PV_output']/1000*da_df['DA[€/MWh]']/4\n",
    "revenue_2021['wind_rev']=df_2021['WEA_Power']/1000*da_df['DA[€/MWh]']/4\n",
    "revenue_2021['sum_rev']=(df_2021['PV_output']+df_2021['WEA_Power'])/1000 * da_df['DA[€/MWh]']/4\n",
    "\n",
    "marktwert_PV = revenue_2021['PV_rev'].sum()/df_2021['PV_output'].sum()*1000*4\n",
    "print(f' Mengengewichteter Marktwert PV: {round(marktwert_PV,3)} in €/MWh, {df_2021.index.year[1]} Ost-West')\n",
    "marktwert_wind = revenue_2021['wind_rev'].sum()/df_2021['WEA_Power'].sum()*1000*4\n",
    "print(f' Mengengewichteter Marktwert Windkraft: {round(marktwert_wind,3)} in €/MWh, {df_2021.index.year[1]} ')\n",
    "marktwert_kombi = revenue_2021['sum_rev'].sum()/df_2021['power_total'].sum()*1000*4\n",
    "print(f' Mengengewichteter Marktwert in Summe: {round(marktwert_kombi,3)} in €/MWh, {df_2021.index.year[1]} ')\n",
    "da_mean = da_df.mean()['DA[€/MWh]']\n",
    "print(f' {df_2021.index.year[1]} mittlerer DA Strompreis {round(da_mean,3)} €/MWh')\n",
    "\n",
    "over = df_2021['power_total'] > df_2021['WEA_Power'].max()\n",
    "e_cap = df_2021['power_total'].copy()\n",
    "e_cap[over] = df_2021['WEA_Power'].max()\n",
    "revenue_cap = e_cap/1000 * da_df['DA[€/MWh]']/4\n",
    "loss_sud = df_2021['revenue'][over] - revenue_cap\n",
    "loss_financial_perc = loss_sud.sum()/df_2021['revenue'].sum()*100\n",
    "loss_energy_perc = (df_2021['power_total'].sum() - e_cap.sum())/df_2021['power_total'].sum() *100\n",
    "marktwert_loss = (df_2021['power_total'][over]*da_df['DA[€/MWh]'][over]).sum()/ df_2021['power_total'][over].sum()\n",
    "over_perc = sum(over)/df_2021.shape[0] *100\n",
    "print('PV Ausrichtung Süd - Ergebnisse:')\n",
    "print(f' {df_2021.index.year[1]} Zeitpunkte in denen g>0.5 {round(over_perc,3)} %')\n",
    "print(f' {df_2021.index.year[1]} Finanzieller Verlust durch Abregelung {round(loss_financial_perc,3)} %')\n",
    "print(f' {df_2021.index.year[1]} Energetischer Verlust durch Abregelung {round(loss_energy_perc,3)} %')\n",
    "print(f' {df_2021.index.year[1]} Marktwert der Abgeregelten Energie {round(marktwert_loss,3)} €/MWh')"
   ],
   "metadata": {
    "collapsed": false,
    "pycharm": {
     "name": "#%%\n"
    }
   }
  },
  {
   "cell_type": "code",
   "execution_count": 17,
   "outputs": [
    {
     "data": {
      "text/plain": "          PV_output        direct       diffuse    wind_speed  \\\ncount  35135.000000  35135.000000  35135.000000  35135.000000   \nmean     860.152625     84.827890     60.742471      3.684107   \nstd     1459.425760    190.901501     92.424217      1.900050   \nmin        0.000000     -0.000000      0.000000      0.200000   \n25%        0.000000      0.000000      0.000000      2.300000   \n50%        0.000000      0.000000      1.087680      3.400000   \n75%     1142.797883     22.041440     97.762468      4.750000   \nmax     5700.000000    963.034873    593.952626     15.900000   \n\n       wind_speed_hubheight     WEA_Power   power_total       revenue  \ncount          35135.000000  35135.000000  35135.000000  35133.000000  \nmean               7.229738   2127.535537   2987.688162     19.027638  \nstd                3.728682   2020.412961   2703.875537     24.100297  \nmin                0.392482      0.000000      0.000000   -223.156389  \n25%                4.513549    394.465856    596.090837      2.859877  \n50%                6.672202   1404.926422   2207.697322     12.429277  \n75%                9.321459   3779.516714   5184.568300     31.550511  \nmax               31.202358   5700.000000  11400.000000    176.538689  ",
      "text/html": "<div>\n<style scoped>\n    .dataframe tbody tr th:only-of-type {\n        vertical-align: middle;\n    }\n\n    .dataframe tbody tr th {\n        vertical-align: top;\n    }\n\n    .dataframe thead th {\n        text-align: right;\n    }\n</style>\n<table border=\"1\" class=\"dataframe\">\n  <thead>\n    <tr style=\"text-align: right;\">\n      <th></th>\n      <th>PV_output</th>\n      <th>direct</th>\n      <th>diffuse</th>\n      <th>wind_speed</th>\n      <th>wind_speed_hubheight</th>\n      <th>WEA_Power</th>\n      <th>power_total</th>\n      <th>revenue</th>\n    </tr>\n  </thead>\n  <tbody>\n    <tr>\n      <th>count</th>\n      <td>35135.000000</td>\n      <td>35135.000000</td>\n      <td>35135.000000</td>\n      <td>35135.000000</td>\n      <td>35135.000000</td>\n      <td>35135.000000</td>\n      <td>35135.000000</td>\n      <td>35133.000000</td>\n    </tr>\n    <tr>\n      <th>mean</th>\n      <td>860.152625</td>\n      <td>84.827890</td>\n      <td>60.742471</td>\n      <td>3.684107</td>\n      <td>7.229738</td>\n      <td>2127.535537</td>\n      <td>2987.688162</td>\n      <td>19.027638</td>\n    </tr>\n    <tr>\n      <th>std</th>\n      <td>1459.425760</td>\n      <td>190.901501</td>\n      <td>92.424217</td>\n      <td>1.900050</td>\n      <td>3.728682</td>\n      <td>2020.412961</td>\n      <td>2703.875537</td>\n      <td>24.100297</td>\n    </tr>\n    <tr>\n      <th>min</th>\n      <td>0.000000</td>\n      <td>-0.000000</td>\n      <td>0.000000</td>\n      <td>0.200000</td>\n      <td>0.392482</td>\n      <td>0.000000</td>\n      <td>0.000000</td>\n      <td>-223.156389</td>\n    </tr>\n    <tr>\n      <th>25%</th>\n      <td>0.000000</td>\n      <td>0.000000</td>\n      <td>0.000000</td>\n      <td>2.300000</td>\n      <td>4.513549</td>\n      <td>394.465856</td>\n      <td>596.090837</td>\n      <td>2.859877</td>\n    </tr>\n    <tr>\n      <th>50%</th>\n      <td>0.000000</td>\n      <td>0.000000</td>\n      <td>1.087680</td>\n      <td>3.400000</td>\n      <td>6.672202</td>\n      <td>1404.926422</td>\n      <td>2207.697322</td>\n      <td>12.429277</td>\n    </tr>\n    <tr>\n      <th>75%</th>\n      <td>1142.797883</td>\n      <td>22.041440</td>\n      <td>97.762468</td>\n      <td>4.750000</td>\n      <td>9.321459</td>\n      <td>3779.516714</td>\n      <td>5184.568300</td>\n      <td>31.550511</td>\n    </tr>\n    <tr>\n      <th>max</th>\n      <td>5700.000000</td>\n      <td>963.034873</td>\n      <td>593.952626</td>\n      <td>15.900000</td>\n      <td>31.202358</td>\n      <td>5700.000000</td>\n      <td>11400.000000</td>\n      <td>176.538689</td>\n    </tr>\n  </tbody>\n</table>\n</div>"
     },
     "execution_count": 17,
     "metadata": {},
     "output_type": "execute_result"
    }
   ],
   "source": [
    "df_2020.describe()"
   ],
   "metadata": {
    "collapsed": false,
    "pycharm": {
     "name": "#%%\n"
    }
   }
  },
  {
   "cell_type": "code",
   "execution_count": null,
   "outputs": [],
   "source": [],
   "metadata": {
    "collapsed": false,
    "pycharm": {
     "name": "#%%\n"
    }
   }
  }
 ],
 "metadata": {
  "kernelspec": {
   "display_name": "Python 3",
   "language": "python",
   "name": "python3"
  },
  "language_info": {
   "codemirror_mode": {
    "name": "ipython",
    "version": 2
   },
   "file_extension": ".py",
   "mimetype": "text/x-python",
   "name": "python",
   "nbconvert_exporter": "python",
   "pygments_lexer": "ipython2",
   "version": "2.7.6"
  }
 },
 "nbformat": 4,
 "nbformat_minor": 0
}